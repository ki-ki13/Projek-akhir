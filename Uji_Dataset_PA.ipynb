{
  "cells": [
    {
      "cell_type": "markdown",
      "metadata": {
        "id": "KB3qnvCQPWEn"
      },
      "source": [
        "#Install dan Import"
      ]
    },
    {
      "cell_type": "code",
      "execution_count": null,
      "metadata": {
        "colab": {
          "base_uri": "https://localhost:8080/"
        },
        "id": "u7bNuqkx5uU2",
        "outputId": "d100b5ae-0662-4365-a589-5c1fd872e79a"
      },
      "outputs": [
        {
          "output_type": "stream",
          "name": "stdout",
          "text": [
            "Looking in indexes: https://pypi.org/simple, https://us-python.pkg.dev/colab-wheels/public/simple/\n",
            "Collecting easyocr\n",
            "  Downloading easyocr-1.5.0-py3-none-any.whl (70.8 MB)\n",
            "\u001b[K     |████████████████████████████████| 70.8 MB 18 kB/s \n",
            "\u001b[?25hRequirement already satisfied: scipy in /usr/local/lib/python3.7/dist-packages (from easyocr) (1.4.1)\n",
            "Requirement already satisfied: scikit-image in /usr/local/lib/python3.7/dist-packages (from easyocr) (0.18.3)\n",
            "Requirement already satisfied: PyYAML in /usr/local/lib/python3.7/dist-packages (from easyocr) (3.13)\n",
            "Requirement already satisfied: Pillow in /usr/local/lib/python3.7/dist-packages (from easyocr) (7.1.2)\n",
            "Collecting python-bidi\n",
            "  Downloading python_bidi-0.4.2-py2.py3-none-any.whl (30 kB)\n",
            "Requirement already satisfied: numpy in /usr/local/lib/python3.7/dist-packages (from easyocr) (1.21.6)\n",
            "Requirement already satisfied: torch in /usr/local/lib/python3.7/dist-packages (from easyocr) (1.11.0+cu113)\n",
            "Requirement already satisfied: torchvision>=0.5 in /usr/local/lib/python3.7/dist-packages (from easyocr) (0.12.0+cu113)\n",
            "Collecting opencv-python-headless<=4.5.4.60\n",
            "  Downloading opencv_python_headless-4.5.4.60-cp37-cp37m-manylinux_2_17_x86_64.manylinux2014_x86_64.whl (47.6 MB)\n",
            "\u001b[K     |████████████████████████████████| 47.6 MB 1.3 MB/s \n",
            "\u001b[?25hRequirement already satisfied: requests in /usr/local/lib/python3.7/dist-packages (from torchvision>=0.5->easyocr) (2.23.0)\n",
            "Requirement already satisfied: typing-extensions in /usr/local/lib/python3.7/dist-packages (from torchvision>=0.5->easyocr) (4.2.0)\n",
            "Requirement already satisfied: six in /usr/local/lib/python3.7/dist-packages (from python-bidi->easyocr) (1.15.0)\n",
            "Requirement already satisfied: chardet<4,>=3.0.2 in /usr/local/lib/python3.7/dist-packages (from requests->torchvision>=0.5->easyocr) (3.0.4)\n",
            "Requirement already satisfied: certifi>=2017.4.17 in /usr/local/lib/python3.7/dist-packages (from requests->torchvision>=0.5->easyocr) (2022.5.18.1)\n",
            "Requirement already satisfied: urllib3!=1.25.0,!=1.25.1,<1.26,>=1.21.1 in /usr/local/lib/python3.7/dist-packages (from requests->torchvision>=0.5->easyocr) (1.24.3)\n",
            "Requirement already satisfied: idna<3,>=2.5 in /usr/local/lib/python3.7/dist-packages (from requests->torchvision>=0.5->easyocr) (2.10)\n",
            "Requirement already satisfied: imageio>=2.3.0 in /usr/local/lib/python3.7/dist-packages (from scikit-image->easyocr) (2.4.1)\n",
            "Requirement already satisfied: tifffile>=2019.7.26 in /usr/local/lib/python3.7/dist-packages (from scikit-image->easyocr) (2021.11.2)\n",
            "Requirement already satisfied: matplotlib!=3.0.0,>=2.0.0 in /usr/local/lib/python3.7/dist-packages (from scikit-image->easyocr) (3.2.2)\n",
            "Requirement already satisfied: PyWavelets>=1.1.1 in /usr/local/lib/python3.7/dist-packages (from scikit-image->easyocr) (1.3.0)\n",
            "Requirement already satisfied: networkx>=2.0 in /usr/local/lib/python3.7/dist-packages (from scikit-image->easyocr) (2.6.3)\n",
            "Requirement already satisfied: kiwisolver>=1.0.1 in /usr/local/lib/python3.7/dist-packages (from matplotlib!=3.0.0,>=2.0.0->scikit-image->easyocr) (1.4.2)\n",
            "Requirement already satisfied: pyparsing!=2.0.4,!=2.1.2,!=2.1.6,>=2.0.1 in /usr/local/lib/python3.7/dist-packages (from matplotlib!=3.0.0,>=2.0.0->scikit-image->easyocr) (3.0.9)\n",
            "Requirement already satisfied: cycler>=0.10 in /usr/local/lib/python3.7/dist-packages (from matplotlib!=3.0.0,>=2.0.0->scikit-image->easyocr) (0.11.0)\n",
            "Requirement already satisfied: python-dateutil>=2.1 in /usr/local/lib/python3.7/dist-packages (from matplotlib!=3.0.0,>=2.0.0->scikit-image->easyocr) (2.8.2)\n",
            "Installing collected packages: python-bidi, opencv-python-headless, easyocr\n",
            "Successfully installed easyocr-1.5.0 opencv-python-headless-4.5.4.60 python-bidi-0.4.2\n"
          ]
        }
      ],
      "source": [
        "!pip install easyocr"
      ]
    },
    {
      "cell_type": "code",
      "execution_count": null,
      "metadata": {
        "id": "Y_ZNj5xBTWd6"
      },
      "outputs": [],
      "source": [
        "import glob\n",
        "import numpy as np\n",
        "import pandas as pd\n",
        "import cv2\n",
        "import easyocr\n",
        "import matplotlib.pyplot as plt\n",
        "\n",
        "from google.colab.patches import cv2_imshow"
      ]
    },
    {
      "cell_type": "markdown",
      "metadata": {
        "id": "fs5ydzRiPabG"
      },
      "source": [
        "#Google Drive"
      ]
    },
    {
      "cell_type": "code",
      "execution_count": null,
      "metadata": {
        "colab": {
          "base_uri": "https://localhost:8080/"
        },
        "id": "mQfr023HT0Un",
        "outputId": "aad36c9b-67bc-4f8b-ac1d-cf4bfb015f8b"
      },
      "outputs": [
        {
          "output_type": "stream",
          "name": "stdout",
          "text": [
            "Mounted at /content/gdrive\n"
          ]
        }
      ],
      "source": [
        "from google.colab import drive\n",
        "drive.mount('/content/gdrive', force_remount=True)"
      ]
    },
    {
      "cell_type": "code",
      "execution_count": null,
      "metadata": {
        "colab": {
          "base_uri": "https://localhost:8080/"
        },
        "id": "QSb7SpYyVUzI",
        "outputId": "93d662a9-f556-4d1f-f0b1-6cc2239b83e6"
      },
      "outputs": [
        {
          "output_type": "stream",
          "name": "stdout",
          "text": [
            "/content/gdrive/MyDrive/OFA/PA/Dataset\n"
          ]
        }
      ],
      "source": [
        "%cd /content/gdrive/MyDrive/OFA/PA/Dataset"
      ]
    },
    {
      "cell_type": "markdown",
      "metadata": {
        "id": "yOwK4CrqPeHT"
      },
      "source": [
        "#Membaca Dataset dan Membuat DataFrame"
      ]
    },
    {
      "cell_type": "code",
      "execution_count": null,
      "metadata": {
        "id": "G0GUbjLfXB9H"
      },
      "outputs": [],
      "source": [
        "data = pd.DataFrame()"
      ]
    },
    {
      "cell_type": "code",
      "execution_count": null,
      "metadata": {
        "id": "I0e0HiI1Uapr"
      },
      "outputs": [],
      "source": [
        "list_gambar = []\n",
        "list_label = []\n",
        "\n",
        "files = glob.glob(r'*')\n",
        "for my_file in files:\n",
        "  # print(my_file)\n",
        "  list_gambar.append(my_file)\n",
        "  my_file = my_file.lower()\n",
        "  list_label.append(my_file.replace('.jpg',''))\n",
        "\n",
        "data['gambar'] = list_gambar\n",
        "data['label'] = list_label"
      ]
    },
    {
      "cell_type": "code",
      "execution_count": null,
      "metadata": {
        "colab": {
          "base_uri": "https://localhost:8080/",
          "height": 206
        },
        "id": "yWzYWeZzWMyk",
        "outputId": "e18469f2-30fb-48d2-cd88-5316828a7fa2"
      },
      "outputs": [
        {
          "output_type": "execute_result",
          "data": {
            "text/plain": [
              "                                              gambar  \\\n",
              "0                                             99.jpg   \n",
              "1                                    cabot place.jpg   \n",
              "2                   priory galleries at the ship.jpg   \n",
              "3  no unauthorised entry into this area permit to...   \n",
              "4                             check signal cable.jpg   \n",
              "\n",
              "                                               label  \n",
              "0                                                 99  \n",
              "1                                        cabot place  \n",
              "2                       priory galleries at the ship  \n",
              "3  no unauthorised entry into this area permit to...  \n",
              "4                                 check signal cable  "
            ],
            "text/html": [
              "\n",
              "  <div id=\"df-3bd1d060-12b5-4a2a-b31a-bb77216489e7\">\n",
              "    <div class=\"colab-df-container\">\n",
              "      <div>\n",
              "<style scoped>\n",
              "    .dataframe tbody tr th:only-of-type {\n",
              "        vertical-align: middle;\n",
              "    }\n",
              "\n",
              "    .dataframe tbody tr th {\n",
              "        vertical-align: top;\n",
              "    }\n",
              "\n",
              "    .dataframe thead th {\n",
              "        text-align: right;\n",
              "    }\n",
              "</style>\n",
              "<table border=\"1\" class=\"dataframe\">\n",
              "  <thead>\n",
              "    <tr style=\"text-align: right;\">\n",
              "      <th></th>\n",
              "      <th>gambar</th>\n",
              "      <th>label</th>\n",
              "    </tr>\n",
              "  </thead>\n",
              "  <tbody>\n",
              "    <tr>\n",
              "      <th>0</th>\n",
              "      <td>99.jpg</td>\n",
              "      <td>99</td>\n",
              "    </tr>\n",
              "    <tr>\n",
              "      <th>1</th>\n",
              "      <td>cabot place.jpg</td>\n",
              "      <td>cabot place</td>\n",
              "    </tr>\n",
              "    <tr>\n",
              "      <th>2</th>\n",
              "      <td>priory galleries at the ship.jpg</td>\n",
              "      <td>priory galleries at the ship</td>\n",
              "    </tr>\n",
              "    <tr>\n",
              "      <th>3</th>\n",
              "      <td>no unauthorised entry into this area permit to...</td>\n",
              "      <td>no unauthorised entry into this area permit to...</td>\n",
              "    </tr>\n",
              "    <tr>\n",
              "      <th>4</th>\n",
              "      <td>check signal cable.jpg</td>\n",
              "      <td>check signal cable</td>\n",
              "    </tr>\n",
              "  </tbody>\n",
              "</table>\n",
              "</div>\n",
              "      <button class=\"colab-df-convert\" onclick=\"convertToInteractive('df-3bd1d060-12b5-4a2a-b31a-bb77216489e7')\"\n",
              "              title=\"Convert this dataframe to an interactive table.\"\n",
              "              style=\"display:none;\">\n",
              "        \n",
              "  <svg xmlns=\"http://www.w3.org/2000/svg\" height=\"24px\"viewBox=\"0 0 24 24\"\n",
              "       width=\"24px\">\n",
              "    <path d=\"M0 0h24v24H0V0z\" fill=\"none\"/>\n",
              "    <path d=\"M18.56 5.44l.94 2.06.94-2.06 2.06-.94-2.06-.94-.94-2.06-.94 2.06-2.06.94zm-11 1L8.5 8.5l.94-2.06 2.06-.94-2.06-.94L8.5 2.5l-.94 2.06-2.06.94zm10 10l.94 2.06.94-2.06 2.06-.94-2.06-.94-.94-2.06-.94 2.06-2.06.94z\"/><path d=\"M17.41 7.96l-1.37-1.37c-.4-.4-.92-.59-1.43-.59-.52 0-1.04.2-1.43.59L10.3 9.45l-7.72 7.72c-.78.78-.78 2.05 0 2.83L4 21.41c.39.39.9.59 1.41.59.51 0 1.02-.2 1.41-.59l7.78-7.78 2.81-2.81c.8-.78.8-2.07 0-2.86zM5.41 20L4 18.59l7.72-7.72 1.47 1.35L5.41 20z\"/>\n",
              "  </svg>\n",
              "      </button>\n",
              "      \n",
              "  <style>\n",
              "    .colab-df-container {\n",
              "      display:flex;\n",
              "      flex-wrap:wrap;\n",
              "      gap: 12px;\n",
              "    }\n",
              "\n",
              "    .colab-df-convert {\n",
              "      background-color: #E8F0FE;\n",
              "      border: none;\n",
              "      border-radius: 50%;\n",
              "      cursor: pointer;\n",
              "      display: none;\n",
              "      fill: #1967D2;\n",
              "      height: 32px;\n",
              "      padding: 0 0 0 0;\n",
              "      width: 32px;\n",
              "    }\n",
              "\n",
              "    .colab-df-convert:hover {\n",
              "      background-color: #E2EBFA;\n",
              "      box-shadow: 0px 1px 2px rgba(60, 64, 67, 0.3), 0px 1px 3px 1px rgba(60, 64, 67, 0.15);\n",
              "      fill: #174EA6;\n",
              "    }\n",
              "\n",
              "    [theme=dark] .colab-df-convert {\n",
              "      background-color: #3B4455;\n",
              "      fill: #D2E3FC;\n",
              "    }\n",
              "\n",
              "    [theme=dark] .colab-df-convert:hover {\n",
              "      background-color: #434B5C;\n",
              "      box-shadow: 0px 1px 3px 1px rgba(0, 0, 0, 0.15);\n",
              "      filter: drop-shadow(0px 1px 2px rgba(0, 0, 0, 0.3));\n",
              "      fill: #FFFFFF;\n",
              "    }\n",
              "  </style>\n",
              "\n",
              "      <script>\n",
              "        const buttonEl =\n",
              "          document.querySelector('#df-3bd1d060-12b5-4a2a-b31a-bb77216489e7 button.colab-df-convert');\n",
              "        buttonEl.style.display =\n",
              "          google.colab.kernel.accessAllowed ? 'block' : 'none';\n",
              "\n",
              "        async function convertToInteractive(key) {\n",
              "          const element = document.querySelector('#df-3bd1d060-12b5-4a2a-b31a-bb77216489e7');\n",
              "          const dataTable =\n",
              "            await google.colab.kernel.invokeFunction('convertToInteractive',\n",
              "                                                     [key], {});\n",
              "          if (!dataTable) return;\n",
              "\n",
              "          const docLinkHtml = 'Like what you see? Visit the ' +\n",
              "            '<a target=\"_blank\" href=https://colab.research.google.com/notebooks/data_table.ipynb>data table notebook</a>'\n",
              "            + ' to learn more about interactive tables.';\n",
              "          element.innerHTML = '';\n",
              "          dataTable['output_type'] = 'display_data';\n",
              "          await google.colab.output.renderOutput(dataTable, element);\n",
              "          const docLink = document.createElement('div');\n",
              "          docLink.innerHTML = docLinkHtml;\n",
              "          element.appendChild(docLink);\n",
              "        }\n",
              "      </script>\n",
              "    </div>\n",
              "  </div>\n",
              "  "
            ]
          },
          "metadata": {},
          "execution_count": 7
        }
      ],
      "source": [
        "data.head()"
      ]
    },
    {
      "cell_type": "markdown",
      "metadata": {
        "id": "XfX9iCDpPij9"
      },
      "source": [
        "#Fungsi-Fungsi"
      ]
    },
    {
      "cell_type": "code",
      "execution_count": null,
      "metadata": {
        "id": "O7a6u9KI6elj"
      },
      "outputs": [],
      "source": [
        "def imageToStringEasyOcr(img, reader):\n",
        "  teks = reader.readtext(img, paragraph = True)\n",
        "  tulisan = []\n",
        "  for i in teks:\n",
        "    tulisan.append(i[1])\n",
        "  return tulisan\n",
        "\n",
        "def listToString(s):\n",
        "    str1 = \" \"\n",
        "    string = (str1.join(s))\n",
        "    string = string.lower() \n",
        "     \n",
        "    return string\n",
        "\n",
        "def stringToList(l):\n",
        "  return (l.split(\" \"))\n",
        "\n",
        "def cek(l1, order):\n",
        "  x, ben, sal, kesel = 0, 0, 0, 0\n",
        "  l2 = data['label'].iloc[order]\n",
        "  l2 = stringToList(l2)\n",
        "  for i in l2:\n",
        "    if i in l1:\n",
        "      x += 1\n",
        "  ben += x\n",
        "  sal += len(l2) - x\n",
        "  kesel += len(l2)\n",
        "\n",
        "  return ben, sal, kesel, l2\n",
        "\n",
        "def readImage(order):\n",
        "  return cv2.imread(data['gambar'].iloc[order])\n",
        "\n",
        "def pipeLine(img, reader):\n",
        "  teks = imageToStringEasyOcr(img, reader)\n",
        "  teks = listToString(teks)\n",
        "  teks = stringToList(teks)\n",
        "  \n",
        "  return teks"
      ]
    },
    {
      "cell_type": "markdown",
      "metadata": {
        "id": "yS06SMu0P40K"
      },
      "source": [
        "#Mengecek EasyOCR"
      ]
    },
    {
      "cell_type": "code",
      "execution_count": null,
      "metadata": {
        "id": "UTYNIbcdY4hx"
      },
      "outputs": [],
      "source": [
        "%%time\n",
        "#Dipilih reader dalam bahasa Inggris\n",
        "reader = easyocr.Reader(['en'])\n",
        "\n",
        "jumlahBener, jumlahSalah, jumlahKeseluruhan = 0, 0, 0\n",
        "listKurang = []\n",
        "listSempurna = []\n",
        "listAkurasi = []\n",
        "\n",
        "for i in range(data.shape[0]):\n",
        "  print(f'Gambar ke-{i+1}')\n",
        "  img = readImage(i)\n",
        "  teks = pipeLine(img, reader)\n",
        "  img = cv2.resize(img, (400,400))\n",
        "  cv2_imshow(img)\n",
        "  print(f'Deteksi\\t: {teks}')\n",
        "  bener, salah, keseluruhan, l2 = cek(teks, i)\n",
        "  print(f'Label\\t: {l2}')\n",
        "  print(f'Benar\\t: {bener}')\n",
        "  print(f'Salah\\t: {salah}')\n",
        "  persen = (bener/len(l2))*100\n",
        "  print(f'Presentase\\t:{persen}%')\n",
        "  if persen < 50:\n",
        "    listKurang.append(i)\n",
        "  elif int(persen) == 100:\n",
        "    listSempurna.append(i)\n",
        "  print()\n",
        "  jumlahBener += bener; jumlahSalah += salah; jumlahKeseluruhan += keseluruhan; akurasi = (jumlahBener/jumlahKeseluruhan)*100\n",
        "  listAkurasi.append(akurasi)"
      ]
    },
    {
      "cell_type": "markdown",
      "metadata": {
        "id": "DIV0bFEkP8Ft"
      },
      "source": [
        "##Perhitungan Keseluruhan"
      ]
    },
    {
      "cell_type": "code",
      "execution_count": null,
      "metadata": {
        "colab": {
          "base_uri": "https://localhost:8080/"
        },
        "id": "N8BW9EE7D3eF",
        "outputId": "fa90e74f-3ead-4f6b-de96-0e7cc3907f73"
      },
      "outputs": [
        {
          "output_type": "stream",
          "name": "stdout",
          "text": [
            "Jumlah Benar Keseluruhan Adalah\t\t:637\n",
            "Jumlah Salah Keseluruhan Adalah\t\t:301\n",
            "Jumlah Kalimat Keseluruhan Adalah\t:938\n",
            "Presentase Keseluruhan Adalah\t\t:67.91044776119402%\n"
          ]
        }
      ],
      "source": [
        "print(f'Jumlah Benar Keseluruhan Adalah\\t\\t:{jumlahBener}')\n",
        "print(f'Jumlah Salah Keseluruhan Adalah\\t\\t:{jumlahSalah}')\n",
        "print(f'Jumlah Kalimat Keseluruhan Adalah\\t:{jumlahKeseluruhan}')\n",
        "print(f'Presentase Keseluruhan Adalah\\t\\t:{(jumlahBener/jumlahKeseluruhan)*100}%')"
      ]
    },
    {
      "cell_type": "code",
      "source": [
        "listAkurasi"
      ],
      "metadata": {
        "colab": {
          "base_uri": "https://localhost:8080/"
        },
        "id": "c1cdwMnVpafx",
        "outputId": "fe13b783-797e-4520-d350-047d17bf6b36"
      },
      "execution_count": null,
      "outputs": [
        {
          "output_type": "execute_result",
          "data": {
            "text/plain": [
              "[0.0,\n",
              " 66.66666666666666,\n",
              " 62.5,\n",
              " 78.26086956521739,\n",
              " 80.76923076923077,\n",
              " 76.66666666666667,\n",
              " 78.125,\n",
              " 76.47058823529412,\n",
              " 80.48780487804879,\n",
              " 79.06976744186046,\n",
              " 80.43478260869566,\n",
              " 79.59183673469387,\n",
              " 75.47169811320755,\n",
              " 75.92592592592592,\n",
              " 77.19298245614034,\n",
              " 78.33333333333333,\n",
              " 79.6875,\n",
              " 79.1044776119403,\n",
              " 77.94117647058823,\n",
              " 78.87323943661971,\n",
              " 78.37837837837837,\n",
              " 79.22077922077922,\n",
              " 83.80952380952381,\n",
              " 84.40366972477065,\n",
              " 82.14285714285714,\n",
              " 79.83193277310924,\n",
              " 80.0,\n",
              " 79.50819672131148,\n",
              " 77.95275590551181,\n",
              " 78.125,\n",
              " 78.78787878787878,\n",
              " 78.19548872180451,\n",
              " 78.26086956521739,\n",
              " 78.57142857142857,\n",
              " 78.87323943661971,\n",
              " 80.0,\n",
              " 79.5031055900621,\n",
              " 79.75460122699386,\n",
              " 79.8780487804878,\n",
              " 78.69822485207101,\n",
              " 78.23529411764706,\n",
              " 77.32558139534885,\n",
              " 76.96629213483146,\n",
              " 76.11111111111111,\n",
              " 76.37362637362637,\n",
              " 76.88172043010752,\n",
              " 76.47058823529412,\n",
              " 76.28865979381443,\n",
              " 77.11442786069652,\n",
              " 77.5609756097561,\n",
              " 78.19905213270142,\n",
              " 78.70370370370371,\n",
              " 78.26086956521739,\n",
              " 78.38983050847457,\n",
              " 77.68595041322314,\n",
              " 77.32793522267207,\n",
              " 77.25490196078432,\n",
              " 76.53846153846153,\n",
              " 77.03703703703704,\n",
              " 76.44927536231883,\n",
              " 76.70250896057348,\n",
              " 76.59574468085107,\n",
              " 75.08650519031141,\n",
              " 74.40273037542661,\n",
              " 74.14965986394559,\n",
              " 73.64864864864865,\n",
              " 73.4006734006734,\n",
              " 73.11475409836066,\n",
              " 72.90322580645162,\n",
              " 73.33333333333333,\n",
              " 73.83177570093457,\n",
              " 73.84615384615385,\n",
              " 73.93939393939394,\n",
              " 73.49397590361446,\n",
              " 73.13432835820896,\n",
              " 72.91666666666666,\n",
              " 71.51162790697676,\n",
              " 71.42857142857143,\n",
              " 71.30681818181817,\n",
              " 70.90395480225989,\n",
              " 70.50561797752809,\n",
              " 70.47353760445682,\n",
              " 70.71823204419888,\n",
              " 71.0455764075067,\n",
              " 70.74468085106383,\n",
              " 70.97625329815304,\n",
              " 70.23498694516971,\n",
              " 69.28934010152284,\n",
              " 69.11392405063292,\n",
              " 69.5,\n",
              " 69.40298507462687,\n",
              " 68.9156626506024,\n",
              " 68.97374701670644,\n",
              " 69.26713947990544,\n",
              " 69.35483870967742,\n",
              " 69.40639269406392,\n",
              " 69.00452488687783,\n",
              " 68.84875846501129,\n",
              " 68.30357142857143,\n",
              " 68.44444444444444,\n",
              " 68.29268292682927,\n",
              " 68.2017543859649,\n",
              " 68.1917211328976,\n",
              " 68.3982683982684,\n",
              " 68.3083511777302,\n",
              " 68.15286624203821,\n",
              " 68.28752642706131,\n",
              " 68.0672268907563,\n",
              " 67.5,\n",
              " 67.70186335403726,\n",
              " 67.83505154639175,\n",
              " 68.0244399185336,\n",
              " 68.21862348178138,\n",
              " 67.79324055666004,\n",
              " 67.78656126482213,\n",
              " 67.77996070726915,\n",
              " 68.27852998065764,\n",
              " 68.39080459770115,\n",
              " 68.63117870722434,\n",
              " 68.86792452830188,\n",
              " 68.60902255639097,\n",
              " 68.65671641791045,\n",
              " 68.27458256029685,\n",
              " 68.45018450184503,\n",
              " 68.50828729281768,\n",
              " 68.62385321100918,\n",
              " 68.05054151624549,\n",
              " 67.98561151079137,\n",
              " 67.74193548387096,\n",
              " 67.85079928952042,\n",
              " 67.9646017699115,\n",
              " 67.72486772486772,\n",
              " 67.78169014084507,\n",
              " 67.89473684210526,\n",
              " 67.95096322241682,\n",
              " 68.0,\n",
              " 68.22107081174438,\n",
              " 68.10344827586206,\n",
              " 68.37606837606837,\n",
              " 68.63406408094434,\n",
              " 68.40336134453781,\n",
              " 68.28859060402685,\n",
              " 68.16666666666666,\n",
              " 68.27242524916943,\n",
              " 68.37748344370861,\n",
              " 68.4640522875817,\n",
              " 68.40390879478826,\n",
              " 68.5064935064935,\n",
              " 68.6084142394822,\n",
              " 68.70967741935485,\n",
              " 68.76006441223832,\n",
              " 68.81028938906752,\n",
              " 67.77251184834124,\n",
              " 67.82334384858044,\n",
              " 68.125,\n",
              " 68.01872074882995,\n",
              " 68.05555555555556,\n",
              " 68.20276497695853,\n",
              " 68.19571865443424,\n",
              " 68.34094368340944,\n",
              " 68.27067669172932,\n",
              " 68.76832844574781,\n",
              " 68.95043731778425,\n",
              " 68.65021770682148,\n",
              " 68.39080459770115,\n",
              " 68.33810888252148,\n",
              " 68.14285714285714,\n",
              " 68.27880512091038,\n",
              " 68.4062059238364,\n",
              " 68.53932584269663,\n",
              " 68.6192468619247,\n",
              " 68.2825484764543,\n",
              " 68.26923076923077,\n",
              " 68.30601092896174,\n",
              " 68.29931972789116,\n",
              " 68.20652173913044,\n",
              " 68.02168021680217,\n",
              " 67.56393001345896,\n",
              " 67.46666666666667,\n",
              " 67.24137931034483,\n",
              " 67.28476821192054,\n",
              " 67.45718050065877,\n",
              " 67.58530183727034,\n",
              " 67.1875,\n",
              " 67.2279792746114,\n",
              " 67.31266149870801,\n",
              " 67.35483870967742,\n",
              " 67.5984752223634,\n",
              " 67.2979797979798,\n",
              " 67.08542713567839,\n",
              " 67.25,\n",
              " 67.41293532338308,\n",
              " 67.45049504950495,\n",
              " 67.52450980392157,\n",
              " 67.64346764346764,\n",
              " 67.6829268292683,\n",
              " 67.75757575757576,\n",
              " 67.55126658624849,\n",
              " 67.50902527075813,\n",
              " 67.22488038277513,\n",
              " 67.26403823178016,\n",
              " 67.30083234244947,\n",
              " 67.3396674584323,\n",
              " 67.18009478672985,\n",
              " 67.17827626918536,\n",
              " 67.21504112808461,\n",
              " 67.70833333333334,\n",
              " 67.58620689655173,\n",
              " 67.65714285714286,\n",
              " 67.61041902604757,\n",
              " 67.64705882352942,\n",
              " 67.68361581920904,\n",
              " 67.82902137232846,\n",
              " 68.0089485458613,\n",
              " 67.85714285714286,\n",
              " 67.66666666666666,\n",
              " 67.73835920177383,\n",
              " 67.9162072767365,\n",
              " 67.83754116355654,\n",
              " 67.75956284153006,\n",
              " 67.64386536373507,\n",
              " 67.74891774891775,\n",
              " 67.88793103448276,\n",
              " 67.87620064034151,\n",
              " 67.91044776119402]"
            ]
          },
          "metadata": {},
          "execution_count": 12
        }
      ]
    },
    {
      "cell_type": "code",
      "source": [
        "plt.plot(listAkurasi, label='Akurasi')"
      ],
      "metadata": {
        "colab": {
          "base_uri": "https://localhost:8080/",
          "height": 282
        },
        "id": "WhjHO_GRnW1L",
        "outputId": "a4f4a6d6-8566-4e07-b701-fc03561aaf43"
      },
      "execution_count": null,
      "outputs": [
        {
          "output_type": "execute_result",
          "data": {
            "text/plain": [
              "[<matplotlib.lines.Line2D at 0x7f4dc94d2450>]"
            ]
          },
          "metadata": {},
          "execution_count": 11
        },
        {
          "output_type": "display_data",
          "data": {
            "text/plain": [
              "<Figure size 432x288 with 1 Axes>"
            ],
            "image/png": "[encoded data removed]"
          },
          "metadata": {
            "needs_background": "light"
          }
        }
      ]
    },
    {
      "cell_type": "markdown",
      "metadata": {
        "id": "y2iEyxQ0P-9B"
      },
      "source": [
        "##Kurang dari 50%"
      ]
    },
    {
      "cell_type": "code",
      "execution_count": null,
      "metadata": {
        "id": "vbsZhIQhJC-0"
      },
      "outputs": [],
      "source": [
        "print(f'Terdapat {len(listKurang)} Gambar Dibawah 50%')\n",
        "for i in listKurang:\n",
        "  print(f'Gambar ke-{i+1}')\n",
        "  img = readImage(i)\n",
        "  teks = pipeLine(img, reader)\n",
        "  img = cv2.resize(img, (400,400))\n",
        "  cv2_imshow(img)\n",
        "  print(f'Deteksi\\t: {teks}')\n",
        "  bener, salah, keseluruhan, l2 = cek(\"\", i)\n",
        "  print(f'Label\\t: {l2}')\n",
        "  print()"
      ]
    },
    {
      "cell_type": "markdown",
      "metadata": {
        "id": "maHtNjsCQFWq"
      },
      "source": [
        "##Sempurna 100%"
      ]
    },
    {
      "cell_type": "code",
      "execution_count": null,
      "metadata": {
        "id": "xoRLMhqjMT48"
      },
      "outputs": [],
      "source": [
        "print(len(listSempurna))\n",
        "for i in listSempurna:\n",
        "  print(f'Gambar ke-{i+1}')\n",
        "  img = readImage(i)\n",
        "  teks = pipeLine(img, reader)\n",
        "  img = cv2.resize(img, (400,400))\n",
        "  cv2_imshow(img)\n",
        "  print(f'Deteksi\\t: {teks}')\n",
        "  bener, salah, keseluruhan, l2 = cek('', i)\n",
        "  print(f'Label\\t: {l2}')\n",
        "  print()"
      ]
    }
  ],
  "metadata": {
    "accelerator": "GPU",
    "colab": {
      "collapsed_sections": [],
      "name": "Uji Dataset PA.ipynb",
      "provenance": []
    },
    "kernelspec": {
      "display_name": "Python 3",
      "name": "python3"
    },
    "language_info": {
      "name": "python"
    }
  },
  "nbformat": 4,
  "nbformat_minor": 0
}